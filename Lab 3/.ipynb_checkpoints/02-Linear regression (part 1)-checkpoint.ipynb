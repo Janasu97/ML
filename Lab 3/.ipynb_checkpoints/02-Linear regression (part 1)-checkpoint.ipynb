{
 "cells": [
  {
   "cell_type": "markdown",
   "metadata": {},
   "source": [
    "# Machine Learning\n",
    "\n",
    "## Linear regression (part 1)\n"
   ]
  },
  {
   "cell_type": "code",
   "execution_count": 1,
   "metadata": {},
   "outputs": [],
   "source": [
    "import numpy as np\n",
    "import matplotlib.pyplot as plt"
   ]
  },
  {
   "cell_type": "markdown",
   "metadata": {},
   "source": [
    "### Task 1. Create training dataset.\n",
    "Create a univariate training dataset. The dataset consists of input data `X` and output data `Y`.\n",
    "\n",
    "- **Step 1:** Create input data `X` of 20 elements in range `1..100` using `np.linspace` function (description below).\n",
    "- **Step 2:** Calculate output data `Y` using below formula:\n",
    "\\begin{equation}\n",
    "y = \\frac{x}{4} + 25\n",
    "\\end{equation}\n",
    "- **Step 3:** Add noise to data. Use `np.random.normal` function with `mean=0` and set `std` to standard deviation of `Y`.\n",
    "\n",
    "See below desctiption of mentioned `numpy` functions:\n",
    "\n",
    "#### **[np.linspace](https://numpy.org/doc/stable/reference/generated/numpy.linspace.html)**\n",
    "\n",
    "\n",
    "```python\n",
    "numpy.linspace(start, stop, num)\n",
    "```\n",
    "\n",
    "Returns `num` evenly spaced samples, calculated over the interval `[start, stop]`.\n",
    "\n",
    "**Parameters**\n",
    "* `start` - The starting value of the sequence.\n",
    "* `stop` - The end value of the sequence.\n",
    "* `num` - Number of samples to generate. Default is 50. Must be non-negative.\n",
    "\n",
    "**Example:**\n",
    "```python\n",
    "np.linspace(2.0, 3.0, num=5)\n",
    "array([2.  , 2.25, 2.5 , 2.75, 3.  ])\n",
    "```\n",
    "\n",
    "\n",
    "#### [np.random.normal](https://numpy.org/doc/stable/reference/random/generated/numpy.random.normal.html)\n",
    "\n",
    "```python\n",
    "random.normal(loc=0.0, scale=1.0, size=None)\n",
    "```\n",
    "\n",
    "Returns random samples from a normal (Gaussian) distribution.\n",
    "\n",
    "**Parameters**\n",
    "* `loc` - Mean (\"centre\") of the distribution.\n",
    "* `scale` - Standard deviation (spread or “width”) of the distribution. Must be non-negative.\n",
    "* `size` - Output shape.\n",
    "\n",
    "**Example:**\n",
    "```python\n",
    "np.random.normal(3, 2.5, size=(2, 4))\n",
    "array([[-4.49401501,  4.00950034, -1.81814867,  7.29718677],   # random\n",
    "       [ 0.39924804,  4.68456316,  4.99394529,  4.84057254]])  # random\n",
    "```"
   ]
  },
  {
   "cell_type": "code",
   "execution_count": 2,
   "metadata": {},
   "outputs": [],
   "source": [
    "X = np.linspace(1, 100, 20)\n",
    "Y = X/4 + 25\n",
    "noise = np.random.normal(loc=0, scale=Y.std()*0.2, size=len(Y))\n",
    "Y += noise"
   ]
  },
  {
   "cell_type": "markdown",
   "metadata": {},
   "source": [
    "### Task 2. Display the samples.\n",
    "To display the samples use `plt.scatter` function.\n",
    "\n",
    "Example:\n",
    "```python\n",
    "plt.figure()\n",
    "plt.scatter(X, Y)\n",
    "plt.title('Samples')\n",
    "plt.xlabel('x')\n",
    "plt.ylabel('y')\n",
    "```"
   ]
  },
  {
   "cell_type": "code",
   "execution_count": 3,
   "metadata": {},
   "outputs": [
    {
     "data": {
      "text/plain": [
       "Text(0, 0.5, 'y')"
      ]
     },
     "execution_count": 3,
     "metadata": {},
     "output_type": "execute_result"
    },
    {
     "data": {
      "image/png": "[encoded data removed]",
      "text/plain": [
       "<Figure size 432x288 with 1 Axes>"
      ]
     },
     "metadata": {
      "needs_background": "light"
     },
     "output_type": "display_data"
    }
   ],
   "source": [
    "plt.figure()\n",
    "plt.scatter(X, Y)\n",
    "plt.title('Samples')\n",
    "plt.xlabel('x')\n",
    "plt.ylabel('y')"
   ]
  },
  {
   "cell_type": "markdown",
   "metadata": {},
   "source": [
    "## Task 3. Write a function.\n",
    "You already know the exact function (it is the same as you used while generating the dataset), but in this task let's imagine you do NOT know the exact function parameters. Assume that you only know that the function is defined by below formula:\n",
    "$$\n",
    "y = ax + b\n",
    "$$.\n",
    "Your task is to implement above function in python.\n"
   ]
  },
  {
   "cell_type": "code",
   "execution_count": 4,
   "metadata": {},
   "outputs": [],
   "source": [
    "# >>> WRITE YOUR CODE IN THIS CELL <<<\n",
    "def fun(x, a, b):\n",
    "    y = a*x+b\n",
    "    return y"
   ]
  },
  {
   "cell_type": "markdown",
   "metadata": {},
   "source": [
    "## Task 4. Display the output of the function.\n",
    "Set the parameters `a=-0.5`, `b=0` and display the function output at the same chart with samples from task 2.\n",
    "\n",
    "Example:\n",
    "```python\n",
    "plt.figure()\n",
    "plt.title('Function')\n",
    "plt.xlabel('x')\n",
    "plt.ylabel('y')\n",
    "plt.scatter(X, Y)\n",
    "pred = fun(X, -0.5) # the function fun is implemented in previous task\n",
    "plt.plot(X, pred, color='r')\n",
    "```"
   ]
  },
  {
   "cell_type": "code",
   "execution_count": 5,
   "metadata": {},
   "outputs": [
    {
     "data": {
      "text/plain": [
       "[<matplotlib.lines.Line2D at 0x15618711cd0>]"
      ]
     },
     "execution_count": 5,
     "metadata": {},
     "output_type": "execute_result"
    },
    {
     "data": {
      "image/png": "[encoded data removed]",
      "text/plain": [
       "<Figure size 432x288 with 1 Axes>"
      ]
     },
     "metadata": {
      "needs_background": "light"
     },
     "output_type": "display_data"
    }
   ],
   "source": [
    "plt.figure()\n",
    "plt.title('Function')\n",
    "plt.xlabel('x')\n",
    "plt.ylabel('y')\n",
    "plt.scatter(X, Y)\n",
    "pred = fun(X, -0.5,0) # the function fun is implemented in previous task\n",
    "plt.plot(X, pred, color='r')"
   ]
  },
  {
   "cell_type": "markdown",
   "metadata": {},
   "source": [
    "## Task 5. Cost function.\n",
    "\n",
    "Write a cost function that calculates how much the prediction differs from the expected values. The cost function takes two parameters `Yt` (correct values - ground truth) and `Yp` (prediction). Use the Root Mean Squared Error (RMSE) as the metric:\n",
    "$$\n",
    "\\textit{RMSE(Yt, Yp)} = \\sqrt{\\frac{1}{n}\\sum_{i=0}^{n-1}{(\\textit{Yp} - \\textit{Yt})^2}}\n",
    "$$"
   ]
  },
  {
   "cell_type": "code",
   "execution_count": 8,
   "metadata": {},
   "outputs": [],
   "source": [
    "# >>> WRITE YOUR CODE IN THIS CELL <<<\n",
    "def RMSE(Yt, Yp):\n",
    "    y = np.sqrt(((Yt - Yp) ** 2).mean())\n",
    "    return y"
   ]
  },
  {
   "cell_type": "markdown",
   "metadata": {},
   "source": [
    "## Task 6. Display the cost function for different values of parameter `a`.\n",
    "Plot the cost function for different values of parameter `a` (set the parameter `b = 0`). Check 20 values in range between -2 and 2.\n",
    "\n",
    "_You will notice that the function drops until particular value and then increases. The point where the function achieves the minimum is the solution._\n",
    "\n",
    "NOTE: Use the `plt.plot` to draw the chart."
   ]
  },
  {
   "cell_type": "code",
   "execution_count": 9,
   "metadata": {},
   "outputs": [
    {
     "data": {
      "text/plain": [
       "[<matplotlib.lines.Line2D at 0x156187d0bb0>]"
      ]
     },
     "execution_count": 9,
     "metadata": {},
     "output_type": "execute_result"
    },
    {
     "data": {
      "image/png": "[encoded data removed]",
      "text/plain": [
       "<Figure size 432x288 with 1 Axes>"
      ]
     },
     "metadata": {
      "needs_background": "light"
     },
     "output_type": "display_data"
    }
   ],
   "source": [
    "a = np.linspace(-2, 2, 20)\n",
    "Yp = fun(X, a, 0)\n",
    "cost = np.zeros(len(a))\n",
    "for i in range(len(Y)):\n",
    "    rmse = RMSE(Y[i], Yp[i])\n",
    "    cost[i] += rmse\n",
    "    i += 1\n",
    "plt.plot(a, cost)"
   ]
  }
 ],
 "metadata": {
  "author": {
   "emails": [
    "robert.susik@p.lodz.pl",
    "rsusik@kis.p.lodz.pl"
   ],
   "name": "Robert Susik"
  },
  "kernelspec": {
   "display_name": "Python 3",
   "language": "python",
   "name": "python3"
  },
  "language_info": {
   "codemirror_mode": {
    "name": "ipython",
    "version": 3
   },
   "file_extension": ".py",
   "mimetype": "text/x-python",
   "name": "python",
   "nbconvert_exporter": "python",
   "pygments_lexer": "ipython3",
   "version": "3.8.8"
  },
  "toc": {
   "base_numbering": 1,
   "nav_menu": {},
   "number_sections": true,
   "sideBar": true,
   "skip_h1_title": false,
   "title_cell": "Table of Contents",
   "title_sidebar": "Contents",
   "toc_cell": false,
   "toc_position": {},
   "toc_section_display": true,
   "toc_window_display": false
  }
 },
 "nbformat": 4,
 "nbformat_minor": 4
}
