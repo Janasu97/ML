{
 "cells": [
  {
   "cell_type": "markdown",
   "metadata": {},
   "source": [
    "# Machine Learning (laboratory instruction)\n",
    "## Logistic regression"
   ]
  },
  {
   "cell_type": "markdown",
   "metadata": {},
   "source": [
    "### The goal\n",
    "Apply Logistic regression algorithm to classification problem."
   ]
  },
  {
   "cell_type": "code",
   "execution_count": 9,
   "metadata": {},
   "outputs": [],
   "source": [
    "# >>> WRITE YOUR CODE BELOW <<<\n",
    "import numpy as np\n",
    "import sklearn\n",
    "import sklearn.datasets\n",
    "import sklearn.model_selection\n",
    "\n",
    "with open('device.npz', 'rb') as f:\n",
    "    data = np.load(f)\n",
    "    x, y = data['x'], data['y']\n",
    "\n",
    "x_train, x_test, y_train, y_test = sklearn.model_selection.train_test_split(x, y, test_size=0.5, random_state=123, shuffle=True)  "
   ]
  },
  {
   "cell_type": "markdown",
   "metadata": {},
   "source": [
    "### Task 1. Apply Logistic regression algorithm.\n",
    "\n",
    "**Tasks:**\n",
    "1. Use Logistic regression algorithm to perform classification.\n",
    "2. Use Accuracy (and loss) metric to check the model results.\n",
    "3. Explore the parameters of the implementation you use.\n",
    "\n",
    "**Note**: You should use implementation that uses Gradient Descent (or any variant) to train the model.\n",
    "\n",
    "$$\n",
    "\\texttt{Accuracy} = \\frac{T}{N}\n",
    "$$\n",
    "\n",
    "where $T$ - number of correctly classified samples, $N$ - number of all samples.\n"
   ]
  },
  {
   "cell_type": "code",
   "execution_count": 8,
   "metadata": {},
   "outputs": [
    {
     "name": "stdout",
     "output_type": "stream",
     "text": [
      "Accuracy: 0.834\n",
      "Mean Absolute Error: 0.166\n",
      "Mean Squared Error: 0.166\n",
      "Mean Root Squared Error: 0.4074309757492673\n",
      "Confusion matrix: \n",
      " [[201  37]\n",
      " [ 46 216]]\n"
     ]
    },
    {
     "data": {
      "image/png": "[encoded data removed]",
      "text/plain": [
       "<Figure size 432x288 with 1 Axes>"
      ]
     },
     "metadata": {
      "needs_background": "light"
     },
     "output_type": "display_data"
    }
   ],
   "source": [
    "import numpy as np\n",
    "from sklearn.linear_model import SGDClassifier\n",
    "from sklearn.preprocessing import StandardScaler\n",
    "from sklearn.pipeline import make_pipeline\n",
    "from sklearn import metrics\n",
    "from sklearn.metrics import mean_absolute_error\n",
    "from sklearn.metrics import mean_squared_error\n",
    "import matplotlib.pyplot as plt\n",
    "\n",
    "lr = make_pipeline(StandardScaler(), SGDClassifier(loss = \"log\", alpha=0.5, max_iter=10000, tol=0.0001))\n",
    "lr.fit(x_train, y_train)\n",
    "\n",
    "y_lr_pred = lr.predict(x_test)\n",
    "\n",
    "plt.title(\"Sklearn logistic regression\")\n",
    "plt.scatter(range(len(x_test[:50])), y_test[:50], color = \"green\", label = \"Test data\")\n",
    "plt.scatter(range(len(x_test[:50])), y_lr_pred[:50], color = \"red\", label = \"Predicted data\")\n",
    "plt.legend()\n",
    "print(f'Accuracy: {lr.score(x_test,y_test)}')\n",
    "print('Mean Absolute Error:', mean_absolute_error(y_test, y_lr_pred))\n",
    "print('Mean Squared Error:', mean_squared_error(y_test, y_lr_pred))\n",
    "print('Mean Root Squared Error:', np.sqrt(mean_squared_error(y_test, y_lr_pred)))\n",
    "print(f\"Confusion matrix: \\n {metrics.confusion_matrix(y_test, y_lr_pred)}\")"
   ]
  },
  {
   "cell_type": "code",
   "execution_count": 95,
   "metadata": {},
   "outputs": [],
   "source": [
    "# The best accuracy result (approximately 0.836) was obtained while setting alpha=0.5\n",
    "# Decreasing the value of aplha leeded to drop with the accuracy level \n",
    "# to approximately 0.754\n"
   ]
  },
  {
   "cell_type": "code",
   "execution_count": null,
   "metadata": {},
   "outputs": [],
   "source": []
  }
 ],
 "metadata": {
  "author": {
   "emails": [
    "robert.susik@p.lodz.pl",
    "rsusik@kis.p.lodz.pl"
   ],
   "name": "Robert Susik"
  },
  "kernelspec": {
   "display_name": "Python 3",
   "language": "python",
   "name": "python3"
  },
  "language_info": {
   "codemirror_mode": {
    "name": "ipython",
    "version": 3
   },
   "file_extension": ".py",
   "mimetype": "text/x-python",
   "name": "python",
   "nbconvert_exporter": "python",
   "pygments_lexer": "ipython3",
   "version": "3.8.8"
  },
  "toc": {
   "base_numbering": 1,
   "nav_menu": {},
   "number_sections": true,
   "sideBar": true,
   "skip_h1_title": false,
   "title_cell": "Table of Contents",
   "title_sidebar": "Contents",
   "toc_cell": false,
   "toc_position": {},
   "toc_section_display": true,
   "toc_window_display": true
  }
 },
 "nbformat": 4,
 "nbformat_minor": 4
}
