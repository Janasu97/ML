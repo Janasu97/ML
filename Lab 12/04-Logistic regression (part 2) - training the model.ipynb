{
 "cells": [
  {
   "cell_type": "markdown",
   "metadata": {},
   "source": [
    "# Machine Learning (laboratory instruction)\n",
    "## Logistic regression"
   ]
  },
  {
   "cell_type": "markdown",
   "metadata": {},
   "source": [
    "### The goal\n",
    "Implement Logistic regression algorithm and use it for classification problem."
   ]
  },
  {
   "cell_type": "code",
   "execution_count": 3,
   "metadata": {},
   "outputs": [],
   "source": [
    "import numpy as np\n",
    "import sklearn\n",
    "import sklearn.datasets\n",
    "import sklearn.model_selection\n",
    "import numpy as np\n",
    "import matplotlib.pyplot as plt\n",
    "with open('device.npz', 'rb') as f:\n",
    "    data = np.load(f)\n",
    "    x, y = data['x'], data['y']\n",
    "\n",
    "x_train, x_test, y_train, y_test = sklearn.model_selection.train_test_split(x, y, test_size=0.5, random_state=123, shuffle=True)  "
   ]
  },
  {
   "cell_type": "markdown",
   "metadata": {},
   "source": [
    "### Task 1. Implement Logistic function \n",
    "\n",
    "Implement Logistic function (also called Sigmoid function):\n",
    "$$\n",
    "S(x) = \\dfrac{1}{1 + e^{-x}}\n",
    "$$\n",
    "\n",
    "Display the chart of the function in range of -8, 8."
   ]
  },
  {
   "cell_type": "code",
   "execution_count": 7,
   "metadata": {},
   "outputs": [
    {
     "data": {
      "text/plain": [
       "[<matplotlib.lines.Line2D at 0x1c1cbab2070>]"
      ]
     },
     "execution_count": 7,
     "metadata": {},
     "output_type": "execute_result"
    },
    {
     "data": {
      "image/png": "[encoded data removed]",
      "text/plain": [
       "<Figure size 432x288 with 1 Axes>"
      ]
     },
     "metadata": {
      "needs_background": "light"
     },
     "output_type": "display_data"
    }
   ],
   "source": [
    "# >>> WRITE YOUR CODE BELOW <<<\n",
    "def sigmoid(x):\n",
    "    return 1/(1+np.exp(-x))\n",
    "\n",
    "x_sigmoid = np.linspace(-8, 8, 100)\n",
    "y_sigmoid = sigmoid(x_sigmoid)\n",
    "plt.plot(x_sigmoid, y_sigmoid)"
   ]
  },
  {
   "cell_type": "markdown",
   "metadata": {},
   "source": [
    "\n",
    "\n"
   ]
  },
  {
   "cell_type": "markdown",
   "metadata": {},
   "source": [
    "### Task 2. Train model.\n",
    "\n",
    "To perform prediction the below formula can be used:\n",
    "\n",
    "$$\n",
    "f(x) = S(x\\theta)\n",
    "$$\n",
    "\n",
    "The returned value gives the probability that the output is 1 or 0. To get the prediction the value should be rounded. We can predict the values 0 and 1 using below formula:\n",
    "    \n",
    "$$\n",
    "\\begin{align}\n",
    "y = \\begin{cases}\n",
    "0&\\text{if $S(x) < 0.5$}\\\\\n",
    "1&\\text{if $S(x) \\ge 0.5$}\\\\\n",
    "\\end{cases}\n",
    "\\end{align}\n",
    "$$\n",
    "\n",
    "To train model in logistic regression we need to use a different cost function (MSE will NOT work here).\n",
    "Because now we have two cases, one when we predict the probability that the sample belongs to class 0 and the second for class 1, the cost function (for one sample) can be defined as:\n",
    "\n",
    "$$\n",
    "\\begin{align}\n",
    "c(\\theta) = \\begin{cases}\n",
    "-log(1 - S(f(x)))&\\text{if $y = 0$}\\\\\n",
    "-log(S(f(x)))&\\text{if $y = 1$}\\\\\n",
    "\\end{cases}\n",
    "\\end{align}\n",
    "$$\n",
    "\n",
    "To calculate it for all samples we can define iterative formula as follows:\n",
    "\n",
    "$$\n",
    "c(\\theta)-\\frac{1}{m}\\sum^m_{i}[t^{(i)}log(S(f(x^{(i)}))) + (1 - t^{(i)})log(1 - S(f(x)))]\n",
    "$$\n",
    "\n",
    "And the vectorized form:\n",
    "\n",
    "\n",
    "$$\n",
    "J(\\theta) = \\frac{1}{m} \\cdot \\left(-t^{T}\\log(h)-(1-t)^{T}\\log(1-h)\\right) \n",
    "$$\n",
    "\n",
    ", where $h = S(x\\theta)$\n",
    "\n",
    "To train the model using Gradient Descent we need to define gradient:\n",
    "\n",
    "\n",
    "$$\n",
    "\\nabla = \\frac{1}{m}x^T(S(x\\theta) - t)\n",
    "$$\n",
    "\n",
    "Note: that the target values are denoted $t$ because $y$ was used in one of above formula.\n",
    "\n"
   ]
  },
  {
   "cell_type": "code",
   "execution_count": 12,
   "metadata": {},
   "outputs": [
    {
     "data": {
      "text/plain": [
       "<matplotlib.collections.PathCollection at 0x1c1ccb80220>"
      ]
     },
     "execution_count": 12,
     "metadata": {},
     "output_type": "execute_result"
    },
    {
     "data": {
      "image/png": "[encoded data removed]",
      "text/plain": [
       "<Figure size 432x288 with 1 Axes>"
      ]
     },
     "metadata": {
      "needs_background": "light"
     },
     "output_type": "display_data"
    }
   ],
   "source": [
    "# >>> WRITE YOUR CODE BELOW <<<\n",
    "for i in range(len(x_sigmoid)):\n",
    "    if y_sigmoid[i] < 0.5:\n",
    "        y_sigmoid[i] = 0;\n",
    "    else:\n",
    "        y_sigmoid[i] = 1\n",
    "plt.scatter(x_sigmoid, y_sigmoid)"
   ]
  },
  {
   "cell_type": "markdown",
   "metadata": {},
   "source": [
    "### Task 3. Results.\n",
    "\n",
    "Plot the train and test loss. Display the accuracy metric."
   ]
  },
  {
   "cell_type": "code",
   "execution_count": null,
   "metadata": {},
   "outputs": [],
   "source": [
    "# >>> WRITE YOUR CODE BELOW <<<\n"
   ]
  }
 ],
 "metadata": {
  "author": {
   "emails": [
    "robert.susik@p.lodz.pl",
    "rsusik@kis.p.lodz.pl"
   ],
   "name": "Robert Susik"
  },
  "kernelspec": {
   "display_name": "Python 3",
   "language": "python",
   "name": "python3"
  },
  "language_info": {
   "codemirror_mode": {
    "name": "ipython",
    "version": 3
   },
   "file_extension": ".py",
   "mimetype": "text/x-python",
   "name": "python",
   "nbconvert_exporter": "python",
   "pygments_lexer": "ipython3",
   "version": "3.8.8"
  },
  "toc": {
   "base_numbering": 1,
   "nav_menu": {},
   "number_sections": true,
   "sideBar": true,
   "skip_h1_title": false,
   "title_cell": "Table of Contents",
   "title_sidebar": "Contents",
   "toc_cell": false,
   "toc_position": {},
   "toc_section_display": true,
   "toc_window_display": true
  }
 },
 "nbformat": 4,
 "nbformat_minor": 4
}
