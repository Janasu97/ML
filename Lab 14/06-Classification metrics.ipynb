{
 "cells": [
  {
   "cell_type": "markdown",
   "metadata": {},
   "source": [
    "# Machine Learning\n",
    "## Multiclass classification\n"
   ]
  },
  {
   "cell_type": "markdown",
   "metadata": {},
   "source": [
    "### The goal.\n",
    "\n",
    "Learn how to use and read classification metrics.\n",
    "\n",
    "\n",
    "### Task 1. Accuracy, recall and precision.\n",
    "\n",
    "We can enumerate following statistical measures of the classification:\n",
    "* True positive (TP)  - the sample is properly classified as positive\n",
    "* False positive (FP) - the sample is wrongly classified as positive\n",
    "* True negative (TN)  - the sample is properly classified as negative\n",
    "* False negative (FN) - the sample is wrongly classified as negative\n",
    "\n",
    "In all previous laboratories accuracy score has been used to measure the classifier performance:\n",
    "\n",
    "$$\n",
    "\\texttt{Accuracy} = \\frac{TP + TN}{TP + TN + FP + FN}\n",
    "$$\n",
    "\n",
    "Read the classification results from `06-enemy.npz` file. This is the result of classifier that detects the enemy. There are two variables:\n",
    "* `prediction` - the output of the classifier,\n",
    "* `target` - the expected result.\n",
    "\n",
    "The value 1 denotes there was an enemy near our radar, the value 0 denote it wasn't an enemy.\n",
    "\n",
    "**Task**: Calculate the accuracy.\n",
    "\n",
    "\n",
    "**Question**: Do you think the performence of the classifier is good?\n",
    "\n",
    "\n",
    "**Task**: Calculate the sensitivity (recall, true positive rate):\n",
    "\n",
    "$$\n",
    "\\texttt{Sensitivity} = \\frac{TP}{TP + FN}\n",
    "$$\n",
    "\n",
    "**Question**: What do you think now about the classifier?\n",
    "\n",
    "**Task**:\n",
    "Calculate the precision:\n",
    "\n",
    "$$\n",
    "\\texttt{Precision} = \\frac{TP}{TP + FP}\n",
    "$$\n",
    "\n",
    "**Task**:\n",
    "Calculate the specificity (true negative rate):\n",
    "\n",
    "$$\n",
    "\\texttt{Specificity} = \\frac{TN}{TN + FP}\n",
    "$$"
   ]
  },
  {
   "cell_type": "code",
   "execution_count": 1,
   "metadata": {},
   "outputs": [],
   "source": [
    "# >>> WRITE YOUR CODE BELOW <<<\n",
    "import numpy as np\n",
    "\n",
    "with open('06-enemy.npz', 'rb') as f:\n",
    "    data = np.load(f)\n",
    "    predictions, target = data['predictions'], data['target']"
   ]
  },
  {
   "cell_type": "code",
   "execution_count": 2,
   "metadata": {},
   "outputs": [],
   "source": [
    "def metrics(pred, target):\n",
    "    total = len(target)\n",
    "    TP = 0\n",
    "    TN = 0\n",
    "    FP = 0\n",
    "    FN = 0\n",
    "    for i in range(total):\n",
    "        pred_sample = pred[i]\n",
    "        target_sample = target[i]\n",
    "        if target_sample == 1:\n",
    "            if pred_sample == 1:\n",
    "                TP += 1\n",
    "            else:\n",
    "                FP += 1\n",
    "        else:\n",
    "            if pred_sample == 1:\n",
    "                FN += 1\n",
    "            else:\n",
    "                TN += 1\n",
    "\n",
    "    accuracy = (TP + TN) / (TP + TN + FP + FN)\n",
    "    sensitivity = TP / (TP + FN)\n",
    "    precision = TP / (TP + FP)\n",
    "    specificity = TN / (TN + FP)\n",
    "\n",
    "    return accuracy, sensitivity, precision, specificity"
   ]
  },
  {
   "cell_type": "code",
   "execution_count": 3,
   "metadata": {},
   "outputs": [
    {
     "name": "stdout",
     "output_type": "stream",
     "text": [
      "accuracy = 0.981\n",
      "sensitivity = 0.980980980980981\n",
      "precision = 1.0\n",
      "specificity = 1.0\n"
     ]
    }
   ],
   "source": [
    "accuracy, sensitivity, precision, specificity = metrics(predictions, target)\n",
    "\n",
    "print(f\"{accuracy = }\")\n",
    "print(f\"{sensitivity = }\")\n",
    "print(f\"{precision = }\")\n",
    "print(f\"{specificity = }\")"
   ]
  },
  {
   "cell_type": "markdown",
   "metadata": {},
   "source": [
    "### Task 2: Confusion matrix.\n",
    "\n",
    "The confusion matrix helps to visualize the classifier performance in table. Each row of the matrix represents the predicted class, while each column represents the ground truth (the actual class)."
   ]
  },
  {
   "cell_type": "code",
   "execution_count": 4,
   "metadata": {},
   "outputs": [],
   "source": [
    "import numpy as np\n",
    "\n",
    "with open('06-animals.npz', 'rb') as f:\n",
    "    data = np.load(f)\n",
    "    predictions, target, classes = data['predictions'], data['target'], data['classes']\n",
    "\n",
    "# Adding the first class\n",
    "classes = np.insert(classes, 0, '', axis=0)"
   ]
  },
  {
   "cell_type": "code",
   "execution_count": 5,
   "metadata": {
    "scrolled": true
   },
   "outputs": [
    {
     "name": "stderr",
     "output_type": "stream",
     "text": [
      "<ipython-input-5-60bed285819d>:13: UserWarning: FixedFormatter should only be used together with FixedLocator\n",
      "  ax.set_xticklabels(classes)\n",
      "<ipython-input-5-60bed285819d>:15: UserWarning: FixedFormatter should only be used together with FixedLocator\n",
      "  ax.set_yticklabels(classes)\n"
     ]
    },
    {
     "data": {
      "image/png": "[encoded data removed]",
      "text/plain": [
       "<Figure size 432x288 with 2 Axes>"
      ]
     },
     "metadata": {
      "needs_background": "light"
     },
     "output_type": "display_data"
    },
    {
     "name": "stdout",
     "output_type": "stream",
     "text": [
      "[[170   4  28   7]\n",
      " [ 10  39  29   8]\n",
      " [ 12   4 420  13]\n",
      " [  8   3  23 122]]\n"
     ]
    }
   ],
   "source": [
    "from sklearn.metrics import confusion_matrix\n",
    "import matplotlib.pyplot as plt\n",
    "import sklearn.model_selection\n",
    "from sklearn.metrics import plot_confusion_matrix\n",
    "from sklearn.svm import SVC\n",
    "\n",
    "confusion_matrix = confusion_matrix(predictions, target)\n",
    "\n",
    "fig = plt.figure()\n",
    "ax = fig.add_subplot(111)\n",
    "cax = ax.matshow(confusion_matrix, interpolation='nearest')\n",
    "fig.colorbar(cax)\n",
    "plt.show()\n",
    "print(confusion_matrix)"
   ]
  },
  {
   "cell_type": "code",
   "execution_count": null,
   "metadata": {},
   "outputs": [],
   "source": []
  }
 ],
 "metadata": {
  "author": {
   "emails": [
    "robert.susik@p.lodz.pl",
    "rsusik@kis.p.lodz.pl"
   ],
   "name": "Robert Susik"
  },
  "kernelspec": {
   "display_name": "Python 3",
   "language": "python",
   "name": "python3"
  },
  "language_info": {
   "codemirror_mode": {
    "name": "ipython",
    "version": 3
   },
   "file_extension": ".py",
   "mimetype": "text/x-python",
   "name": "python",
   "nbconvert_exporter": "python",
   "pygments_lexer": "ipython3",
   "version": "3.8.8"
  },
  "toc": {
   "base_numbering": 1,
   "nav_menu": {},
   "number_sections": true,
   "sideBar": true,
   "skip_h1_title": false,
   "title_cell": "Table of Contents",
   "title_sidebar": "Contents",
   "toc_cell": false,
   "toc_position": {},
   "toc_section_display": true,
   "toc_window_display": true
  }
 },
 "nbformat": 4,
 "nbformat_minor": 4
}
