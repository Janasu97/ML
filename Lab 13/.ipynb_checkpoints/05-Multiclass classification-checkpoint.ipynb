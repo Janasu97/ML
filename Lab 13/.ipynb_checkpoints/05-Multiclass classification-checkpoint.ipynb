{
 "cells": [
  {
   "cell_type": "markdown",
   "metadata": {},
   "source": [
    "# Machine Learning (laboratory instruction)\n",
    "## Classification metrics"
   ]
  },
  {
   "cell_type": "markdown",
   "metadata": {},
   "source": [
    "### The goal.\n",
    "\n",
    "Multi-class classification.\n",
    "\n",
    "In many machine learning applications there is a need to classify samples into more than two groups. This kind of classification is called multi-class classification."
   ]
  },
  {
   "cell_type": "code",
   "execution_count": 1,
   "metadata": {},
   "outputs": [],
   "source": [
    "import sklearn.datasets\n",
    "import numpy as np\n",
    "from tqdm import tqdm\n",
    "import matplotlib.pyplot as plt\n",
    "\n",
    "with open('animals.npz', 'rb') as f:\n",
    "    data = np.load(f)\n",
    "    x_train, x_test, y_train, y_test, classes = data['x_train'], data['x_test'], data['y_train'], data['y_test'], data['classes']\n",
    "\n",
    "k = len(classes)"
   ]
  },
  {
   "cell_type": "markdown",
   "metadata": {},
   "source": [
    "\n",
    "### Task 1. Data preprocessing - one-hot encoding.\n",
    "To perform multi-class classification we need to prepare the data. We are about to predict the probability that particular sample belongs to one of $k$ classes. In this case, we expect that the result contains $k$ numbers where each tells the probability that the sample belongs to such class. Perfectly, if the sample belongs to the class the model returns 1 and zeros for other classes.\n",
    "\n",
    "Before we start training the data should be prepared properly. For this case implement one-hot encoding function."
   ]
  },
  {
   "cell_type": "code",
   "execution_count": 2,
   "metadata": {},
   "outputs": [
    {
     "name": "stdout",
     "output_type": "stream",
     "text": [
      "y_train_hot=array([[0., 1., 0., 0.],\n",
      "       [0., 0., 1., 0.],\n",
      "       [0., 0., 1., 0.],\n",
      "       ...,\n",
      "       [0., 0., 1., 0.],\n",
      "       [0., 0., 1., 0.],\n",
      "       [1., 0., 0., 0.]]), \n",
      " y_test_hot=array([[0., 1., 0., 0.],\n",
      "       [0., 0., 0., 1.],\n",
      "       [0., 0., 0., 1.],\n",
      "       ...,\n",
      "       [0., 0., 0., 1.],\n",
      "       [0., 1., 0., 0.],\n",
      "       [0., 0., 0., 1.]])\n"
     ]
    }
   ],
   "source": [
    "\n",
    "def oneHotEncode(input, hot_classes):\n",
    "    OHE = []\n",
    "    for i in input:\n",
    "        hot = np.zeros(hot_classes)\n",
    "        hot[i] = 1\n",
    "        OHE.append(hot)\n",
    "    return np.array(OHE)\n",
    "\n",
    "y_train_hot = oneHotEncode(y_train, k)\n",
    "y_test_hot = oneHotEncode(y_test, k)\n",
    "\n",
    "print(f\"{y_train_hot=}, \\n {y_test_hot=}\")"
   ]
  },
  {
   "cell_type": "markdown",
   "metadata": {},
   "source": [
    "### Task 2. Softmax.\n",
    "\n",
    "The logistic regression uses the sigmoid function to classify the sample into one of two groups. This time we want to assign one of >2 labels to sample. For this case, implement the softmax function that returns a vector of probabilities."
   ]
  },
  {
   "cell_type": "code",
   "execution_count": 3,
   "metadata": {},
   "outputs": [],
   "source": [
    "# >>> WRITE YOUR CODE BELOW <<<\n",
    "def softmax(z):\n",
    "    probabilities = []\n",
    "    denom = 0\n",
    "    for i in range (0, k):\n",
    "        denom += np.exp(z[i])\n",
    "    for j in z:\n",
    "        prob = np.exp(j)/denom\n",
    "        probabilities.append(prob)\n",
    "    return np.array(probabilities)\n",
    "\n",
    "def softmax_sum(smax_sum):\n",
    "    soft = []\n",
    "    for z in smax_sum:\n",
    "        soft.append(softmax(z))\n",
    "    return np.array(soft)\n",
    "\n",
    "train_theta = np.random.randn(x_train.shape[1], k)\n",
    "y_train_predict = x_train @ train_theta\n",
    "\n",
    "test_theta = np.random.randn(x_test.shape[1], k)\n",
    "y_test_predict = x_test @ test_theta\n",
    "\n",
    "y_train_predict_soft = softmax_sum(y_train_predict)\n",
    "y_test_predict_soft = softmax_sum(y_test_predict)"
   ]
  },
  {
   "cell_type": "markdown",
   "metadata": {},
   "source": [
    "### Task 3. Train the model.\n",
    "\n",
    "To train the model we will use the cross-entropy cost function."
   ]
  },
  {
   "cell_type": "code",
   "execution_count": 4,
   "metadata": {},
   "outputs": [],
   "source": [
    "\n",
    "def cost_fun(predicted, actual):\n",
    "    log = np.log(predicted)\n",
    "    mul1 = actual * log\n",
    "    sum = np.sum(mul1)\n",
    "    sum = np.sum(sum)\n",
    "    res = sum / len(predicted)\n",
    "    return -res\n",
    "\n",
    "cost_fun(y_train_predict_soft, y_test_hot)\n",
    "\n",
    "def gradient(predicted, actual, x):\n",
    "    dif = predicted - actual\n",
    "    mul2 = x.T @ dif\n",
    "    return mul2/len(predicted)"
   ]
  },
  {
   "cell_type": "markdown",
   "metadata": {},
   "source": [
    "### Task 4. Results."
   ]
  },
  {
   "cell_type": "code",
   "execution_count": 5,
   "metadata": {},
   "outputs": [],
   "source": [
    "\n",
    "def model(x, y_hot, alpha, epochs):\n",
    "    theta = np.random.randn(x.shape[1], k)\n",
    "    m = len(x)\n",
    "    costs = []\n",
    "    test_costs = []\n",
    "    acc = []\n",
    "    acc_test = []\n",
    "    for i in range(0, epochs):\n",
    "\n",
    "        pred = x @ theta\n",
    "        pred_soft = softmax_sum(pred)\n",
    "\n",
    "        gr = gradient(pred_soft, y_hot, x)\n",
    "        theta -= alpha * gr\n",
    "\n",
    "        test_pred = x_test @ theta\n",
    "        test_soft_pred = softmax_sum(test_pred)\n",
    "\n",
    "        acc.append(accuracy(pred_soft, y_hot))\n",
    "        acc_test.append(accuracy(test_soft_pred, y_test_hot))\n",
    "    \n",
    "        costs.append(cost_fun(pred_soft, y_hot))\n",
    "        test_costs.append(cost_fun(test_soft_pred, y_test_hot))\n",
    "    return costs, test_costs, acc, acc_test, theta\n",
    "\n",
    "def accuracy(pred, actual):\n",
    "    good = 0\n",
    "    for i in range(len(pred)):\n",
    "        pred_sample = pred[i]\n",
    "        actual_sample = actual[i]\n",
    "        for j in range(len(actual_sample)):\n",
    "            if actual_sample[j]==1 and pred_sample[j]>0.5:\n",
    "                good += 1\n",
    "    return good / len(pred)\n"
   ]
  },
  {
   "cell_type": "code",
   "execution_count": 7,
   "metadata": {},
   "outputs": [
    {
     "name": "stdout",
     "output_type": "stream",
     "text": [
      "Cost = 0.9149893643476487, test_cost = 1.0021748505754098\n",
      "Accuracy = 0.47, accuracy_test = 0.462\n"
     ]
    },
    {
     "data": {
      "image/png": "[encoded data removed]",
      "text/plain": [
       "<Figure size 432x288 with 1 Axes>"
      ]
     },
     "metadata": {
      "needs_background": "light"
     },
     "output_type": "display_data"
    },
    {
     "data": {
      "image/png": "[encoded data removed]",
      "text/plain": [
       "<Figure size 432x288 with 1 Axes>"
      ]
     },
     "metadata": {
      "needs_background": "light"
     },
     "output_type": "display_data"
    }
   ],
   "source": [
    "alpha = 0.2\n",
    "epochs = 1000\n",
    "\n",
    "cost, test_cost, acc, acc_test, theta = model(x_train, y_train_hot, alpha, epochs)\n",
    "\n",
    "print(f\"Cost = {cost[-1]}, test_cost = {test_cost[-1]}\")\n",
    "print(f\"Accuracy = {acc[-1]}, accuracy_test = {acc_test[-1]}\")\n",
    "\n",
    "plt.plot(range(epochs),cost, color=\"red\", label=\"cost\")\n",
    "plt.plot(range(epochs),test_cost, color=\"green\", label=\"test_cost\")\n",
    "plt.legend()\n",
    "plt.show()\n",
    "\n",
    "plt.plot(range(epochs),acc, c=\"red\", label=\"accuracy\")\n",
    "plt.plot(range(epochs),acc_test, color=\"green\", label=\"test_accuracy\")\n",
    "plt.legend()\n",
    "plt.show()"
   ]
  },
  {
   "cell_type": "code",
   "execution_count": null,
   "metadata": {},
   "outputs": [],
   "source": []
  }
 ],
 "metadata": {
  "author": {
   "emails": [
    "robert.susik@p.lodz.pl",
    "rsusik@kis.p.lodz.pl"
   ],
   "name": "Robert Susik"
  },
  "kernelspec": {
   "display_name": "Python 3",
   "language": "python",
   "name": "python3"
  },
  "language_info": {
   "codemirror_mode": {
    "name": "ipython",
    "version": 3
   },
   "file_extension": ".py",
   "mimetype": "text/x-python",
   "name": "python",
   "nbconvert_exporter": "python",
   "pygments_lexer": "ipython3",
   "version": "3.8.8"
  },
  "toc": {
   "base_numbering": 1,
   "nav_menu": {},
   "number_sections": true,
   "sideBar": true,
   "skip_h1_title": false,
   "title_cell": "Table of Contents",
   "title_sidebar": "Contents",
   "toc_cell": false,
   "toc_position": {},
   "toc_section_display": true,
   "toc_window_display": true
  }
 },
 "nbformat": 4,
 "nbformat_minor": 4
}
